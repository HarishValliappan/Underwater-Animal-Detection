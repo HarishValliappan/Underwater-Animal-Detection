{
  "nbformat": 4,
  "nbformat_minor": 0,
  "metadata": {
    "colab": {
      "provenance": [],
      "gpuType": "T4"
    },
    "kernelspec": {
      "name": "python3",
      "display_name": "Python 3"
    },
    "language_info": {
      "name": "python"
    },
    "accelerator": "GPU"
  },
  "cells": [
    {
      "cell_type": "markdown",
      "source": [
        "# ***Under water Animal Detection***"
      ],
      "metadata": {
        "id": "JfoImIYXV2BL"
      }
    },
    {
      "cell_type": "code",
      "source": [
        "!pip install ultralytics"
      ],
      "metadata": {
        "colab": {
          "base_uri": "https://localhost:8080/"
        },
        "id": "5BVtXplcKsTo",
        "outputId": "7ea56148-5e7c-42f6-a048-ce38f3c64283"
      },
      "execution_count": 1,
      "outputs": [
        {
          "output_type": "stream",
          "name": "stdout",
          "text": [
            "Collecting ultralytics\n",
            "  Downloading ultralytics-8.0.190-py3-none-any.whl (615 kB)\n",
            "\u001b[2K     \u001b[90m━━━━━━━━━━━━━━━━━━━━━━━━━━━━━━━━━━━━━━━\u001b[0m \u001b[32m615.6/615.6 kB\u001b[0m \u001b[31m6.2 MB/s\u001b[0m eta \u001b[36m0:00:00\u001b[0m\n",
            "\u001b[?25hRequirement already satisfied: matplotlib>=3.3.0 in /usr/local/lib/python3.10/dist-packages (from ultralytics) (3.7.1)\n",
            "Requirement already satisfied: numpy>=1.22.2 in /usr/local/lib/python3.10/dist-packages (from ultralytics) (1.23.5)\n",
            "Requirement already satisfied: opencv-python>=4.6.0 in /usr/local/lib/python3.10/dist-packages (from ultralytics) (4.8.0.76)\n",
            "Requirement already satisfied: pillow>=7.1.2 in /usr/local/lib/python3.10/dist-packages (from ultralytics) (9.4.0)\n",
            "Requirement already satisfied: pyyaml>=5.3.1 in /usr/local/lib/python3.10/dist-packages (from ultralytics) (6.0.1)\n",
            "Requirement already satisfied: requests>=2.23.0 in /usr/local/lib/python3.10/dist-packages (from ultralytics) (2.31.0)\n",
            "Requirement already satisfied: scipy>=1.4.1 in /usr/local/lib/python3.10/dist-packages (from ultralytics) (1.11.2)\n",
            "Requirement already satisfied: torch>=1.8.0 in /usr/local/lib/python3.10/dist-packages (from ultralytics) (2.0.1+cu118)\n",
            "Requirement already satisfied: torchvision>=0.9.0 in /usr/local/lib/python3.10/dist-packages (from ultralytics) (0.15.2+cu118)\n",
            "Requirement already satisfied: tqdm>=4.64.0 in /usr/local/lib/python3.10/dist-packages (from ultralytics) (4.66.1)\n",
            "Requirement already satisfied: pandas>=1.1.4 in /usr/local/lib/python3.10/dist-packages (from ultralytics) (1.5.3)\n",
            "Requirement already satisfied: seaborn>=0.11.0 in /usr/local/lib/python3.10/dist-packages (from ultralytics) (0.12.2)\n",
            "Requirement already satisfied: psutil in /usr/local/lib/python3.10/dist-packages (from ultralytics) (5.9.5)\n",
            "Requirement already satisfied: py-cpuinfo in /usr/local/lib/python3.10/dist-packages (from ultralytics) (9.0.0)\n",
            "Collecting thop>=0.1.1 (from ultralytics)\n",
            "  Downloading thop-0.1.1.post2209072238-py3-none-any.whl (15 kB)\n",
            "Requirement already satisfied: contourpy>=1.0.1 in /usr/local/lib/python3.10/dist-packages (from matplotlib>=3.3.0->ultralytics) (1.1.0)\n",
            "Requirement already satisfied: cycler>=0.10 in /usr/local/lib/python3.10/dist-packages (from matplotlib>=3.3.0->ultralytics) (0.11.0)\n",
            "Requirement already satisfied: fonttools>=4.22.0 in /usr/local/lib/python3.10/dist-packages (from matplotlib>=3.3.0->ultralytics) (4.42.1)\n",
            "Requirement already satisfied: kiwisolver>=1.0.1 in /usr/local/lib/python3.10/dist-packages (from matplotlib>=3.3.0->ultralytics) (1.4.5)\n",
            "Requirement already satisfied: packaging>=20.0 in /usr/local/lib/python3.10/dist-packages (from matplotlib>=3.3.0->ultralytics) (23.1)\n",
            "Requirement already satisfied: pyparsing>=2.3.1 in /usr/local/lib/python3.10/dist-packages (from matplotlib>=3.3.0->ultralytics) (3.1.1)\n",
            "Requirement already satisfied: python-dateutil>=2.7 in /usr/local/lib/python3.10/dist-packages (from matplotlib>=3.3.0->ultralytics) (2.8.2)\n",
            "Requirement already satisfied: pytz>=2020.1 in /usr/local/lib/python3.10/dist-packages (from pandas>=1.1.4->ultralytics) (2023.3.post1)\n",
            "Requirement already satisfied: charset-normalizer<4,>=2 in /usr/local/lib/python3.10/dist-packages (from requests>=2.23.0->ultralytics) (3.2.0)\n",
            "Requirement already satisfied: idna<4,>=2.5 in /usr/local/lib/python3.10/dist-packages (from requests>=2.23.0->ultralytics) (3.4)\n",
            "Requirement already satisfied: urllib3<3,>=1.21.1 in /usr/local/lib/python3.10/dist-packages (from requests>=2.23.0->ultralytics) (2.0.4)\n",
            "Requirement already satisfied: certifi>=2017.4.17 in /usr/local/lib/python3.10/dist-packages (from requests>=2.23.0->ultralytics) (2023.7.22)\n",
            "Requirement already satisfied: filelock in /usr/local/lib/python3.10/dist-packages (from torch>=1.8.0->ultralytics) (3.12.2)\n",
            "Requirement already satisfied: typing-extensions in /usr/local/lib/python3.10/dist-packages (from torch>=1.8.0->ultralytics) (4.5.0)\n",
            "Requirement already satisfied: sympy in /usr/local/lib/python3.10/dist-packages (from torch>=1.8.0->ultralytics) (1.12)\n",
            "Requirement already satisfied: networkx in /usr/local/lib/python3.10/dist-packages (from torch>=1.8.0->ultralytics) (3.1)\n",
            "Requirement already satisfied: jinja2 in /usr/local/lib/python3.10/dist-packages (from torch>=1.8.0->ultralytics) (3.1.2)\n",
            "Requirement already satisfied: triton==2.0.0 in /usr/local/lib/python3.10/dist-packages (from torch>=1.8.0->ultralytics) (2.0.0)\n",
            "Requirement already satisfied: cmake in /usr/local/lib/python3.10/dist-packages (from triton==2.0.0->torch>=1.8.0->ultralytics) (3.27.4.1)\n",
            "Requirement already satisfied: lit in /usr/local/lib/python3.10/dist-packages (from triton==2.0.0->torch>=1.8.0->ultralytics) (16.0.6)\n",
            "Requirement already satisfied: six>=1.5 in /usr/local/lib/python3.10/dist-packages (from python-dateutil>=2.7->matplotlib>=3.3.0->ultralytics) (1.16.0)\n",
            "Requirement already satisfied: MarkupSafe>=2.0 in /usr/local/lib/python3.10/dist-packages (from jinja2->torch>=1.8.0->ultralytics) (2.1.3)\n",
            "Requirement already satisfied: mpmath>=0.19 in /usr/local/lib/python3.10/dist-packages (from sympy->torch>=1.8.0->ultralytics) (1.3.0)\n",
            "Installing collected packages: thop, ultralytics\n",
            "Successfully installed thop-0.1.1.post2209072238 ultralytics-8.0.190\n"
          ]
        }
      ]
    },
    {
      "cell_type": "code",
      "source": [
        "from ultralytics import YOLO\n",
        "model = YOLO('/content/yolov8n.pt')"
      ],
      "metadata": {
        "id": "njP59rVrLeaW",
        "colab": {
          "base_uri": "https://localhost:8080/"
        },
        "outputId": "54937b45-c594-495d-b8bb-a16590170a1f"
      },
      "execution_count": 2,
      "outputs": [
        {
          "output_type": "stream",
          "name": "stderr",
          "text": [
            "Downloading https://github.com/ultralytics/assets/releases/download/v0.0.0/yolov8n.pt to '/content/yolov8n.pt'...\n",
            "100%|██████████| 6.23M/6.23M [00:00<00:00, 77.4MB/s]\n"
          ]
        }
      ]
    },
    {
      "cell_type": "code",
      "source": [
        "from google.colab import drive\n",
        "drive.mount('/content/gdrive')"
      ],
      "metadata": {
        "colab": {
          "base_uri": "https://localhost:8080/"
        },
        "id": "DCx0dHVmLgBk",
        "outputId": "9fc77506-dfc1-4e30-c7b8-ebac41c1b86b"
      },
      "execution_count": 3,
      "outputs": [
        {
          "output_type": "stream",
          "name": "stdout",
          "text": [
            "Mounted at /content/gdrive\n"
          ]
        }
      ]
    },
    {
      "cell_type": "code",
      "source": [
        "!ln -s /content/gdrive/My\\ Drive/ /content/YOLOv8"
      ],
      "metadata": {
        "id": "4tbDdD6PLgFj"
      },
      "execution_count": 4,
      "outputs": []
    },
    {
      "cell_type": "code",
      "source": [
        "import os\n",
        "\n",
        "# Define the directory path\n",
        "directory_path = '/content/gdrive/MyDrive/YOLOv8/valid/images/'\n",
        "c=0\n",
        "# Iterate through files in the directory\n",
        "for filename in os.listdir(directory_path):\n",
        "  c+=1\n",
        "print(c)\n"
      ],
      "metadata": {
        "colab": {
          "base_uri": "https://localhost:8080/"
        },
        "id": "eHMYGp96bdeC",
        "outputId": "24cd44c5-7621-40a1-924e-0ee1f1994f78"
      },
      "execution_count": 5,
      "outputs": [
        {
          "output_type": "stream",
          "name": "stdout",
          "text": [
            "127\n"
          ]
        }
      ]
    },
    {
      "cell_type": "code",
      "source": [
        "import os\n",
        "\n",
        "# Define the directory path\n",
        "directory_path = '/content/gdrive/MyDrive/YOLOv8/valid/labels/'\n",
        "c=0\n",
        "# Iterate through files in the directory\n",
        "for filename in os.listdir(directory_path):\n",
        "  c+=1\n",
        "print(c)"
      ],
      "metadata": {
        "colab": {
          "base_uri": "https://localhost:8080/"
        },
        "id": "yYZglYsycF0s",
        "outputId": "77eedb67-56ac-4bca-c9f8-ff3454b63138"
      },
      "execution_count": 6,
      "outputs": [
        {
          "output_type": "stream",
          "name": "stdout",
          "text": [
            "127\n"
          ]
        }
      ]
    },
    {
      "cell_type": "code",
      "source": [
        "results = model.train(data=\"/content/custom_data.yaml\", epochs=50, workers=1, batch=8,imgsz=640)"
      ],
      "metadata": {
        "colab": {
          "base_uri": "https://localhost:8080/"
        },
        "id": "x5AygvEpLwQF",
        "outputId": "2ce77261-9c16-48a7-a721-f089feb0c083"
      },
      "execution_count": 8,
      "outputs": [
        {
          "output_type": "stream",
          "name": "stderr",
          "text": [
            "Ultralytics YOLOv8.0.190 🚀 Python-3.10.12 torch-2.0.1+cu118 CUDA:0 (Tesla T4, 15102MiB)\n",
            "\u001b[34m\u001b[1mengine/trainer: \u001b[0mtask=detect, mode=train, model=/content/yolov8n.pt, data=/content/custom_data.yaml, epochs=50, patience=50, batch=8, imgsz=640, save=True, save_period=-1, cache=False, device=None, workers=1, project=None, name=None, exist_ok=False, pretrained=True, optimizer=auto, verbose=True, seed=0, deterministic=True, single_cls=False, rect=False, cos_lr=False, close_mosaic=10, resume=False, amp=True, fraction=1.0, profile=False, freeze=None, overlap_mask=True, mask_ratio=4, dropout=0.0, val=True, split=val, save_json=False, save_hybrid=False, conf=None, iou=0.7, max_det=300, half=False, dnn=False, plots=True, source=None, show=False, save_txt=False, save_conf=False, save_crop=False, show_labels=True, show_conf=True, vid_stride=1, stream_buffer=False, line_width=None, visualize=False, augment=False, agnostic_nms=False, classes=None, retina_masks=False, boxes=True, format=torchscript, keras=False, optimize=False, int8=False, dynamic=False, simplify=False, opset=None, workspace=4, nms=False, lr0=0.01, lrf=0.01, momentum=0.937, weight_decay=0.0005, warmup_epochs=3.0, warmup_momentum=0.8, warmup_bias_lr=0.1, box=7.5, cls=0.5, dfl=1.5, pose=12.0, kobj=1.0, label_smoothing=0.0, nbs=64, hsv_h=0.015, hsv_s=0.7, hsv_v=0.4, degrees=0.0, translate=0.1, scale=0.5, shear=0.0, perspective=0.0, flipud=0.0, fliplr=0.5, mosaic=1.0, mixup=0.0, copy_paste=0.0, cfg=None, tracker=botsort.yaml, save_dir=runs/detect/train2\n",
            "Downloading https://ultralytics.com/assets/Arial.ttf to '/root/.config/Ultralytics/Arial.ttf'...\n",
            "100%|██████████| 755k/755k [00:00<00:00, 21.6MB/s]\n",
            "Overriding model.yaml nc=80 with nc=7\n",
            "\n",
            "                   from  n    params  module                                       arguments                     \n",
            "  0                  -1  1       464  ultralytics.nn.modules.conv.Conv             [3, 16, 3, 2]                 \n",
            "  1                  -1  1      4672  ultralytics.nn.modules.conv.Conv             [16, 32, 3, 2]                \n",
            "  2                  -1  1      7360  ultralytics.nn.modules.block.C2f             [32, 32, 1, True]             \n",
            "  3                  -1  1     18560  ultralytics.nn.modules.conv.Conv             [32, 64, 3, 2]                \n",
            "  4                  -1  2     49664  ultralytics.nn.modules.block.C2f             [64, 64, 2, True]             \n",
            "  5                  -1  1     73984  ultralytics.nn.modules.conv.Conv             [64, 128, 3, 2]               \n",
            "  6                  -1  2    197632  ultralytics.nn.modules.block.C2f             [128, 128, 2, True]           \n",
            "  7                  -1  1    295424  ultralytics.nn.modules.conv.Conv             [128, 256, 3, 2]              \n",
            "  8                  -1  1    460288  ultralytics.nn.modules.block.C2f             [256, 256, 1, True]           \n",
            "  9                  -1  1    164608  ultralytics.nn.modules.block.SPPF            [256, 256, 5]                 \n",
            " 10                  -1  1         0  torch.nn.modules.upsampling.Upsample         [None, 2, 'nearest']          \n",
            " 11             [-1, 6]  1         0  ultralytics.nn.modules.conv.Concat           [1]                           \n",
            " 12                  -1  1    148224  ultralytics.nn.modules.block.C2f             [384, 128, 1]                 \n",
            " 13                  -1  1         0  torch.nn.modules.upsampling.Upsample         [None, 2, 'nearest']          \n",
            " 14             [-1, 4]  1         0  ultralytics.nn.modules.conv.Concat           [1]                           \n",
            " 15                  -1  1     37248  ultralytics.nn.modules.block.C2f             [192, 64, 1]                  \n",
            " 16                  -1  1     36992  ultralytics.nn.modules.conv.Conv             [64, 64, 3, 2]                \n",
            " 17            [-1, 12]  1         0  ultralytics.nn.modules.conv.Concat           [1]                           \n",
            " 18                  -1  1    123648  ultralytics.nn.modules.block.C2f             [192, 128, 1]                 \n",
            " 19                  -1  1    147712  ultralytics.nn.modules.conv.Conv             [128, 128, 3, 2]              \n",
            " 20             [-1, 9]  1         0  ultralytics.nn.modules.conv.Concat           [1]                           \n",
            " 21                  -1  1    493056  ultralytics.nn.modules.block.C2f             [384, 256, 1]                 \n",
            " 22        [15, 18, 21]  1    752677  ultralytics.nn.modules.head.Detect           [7, [64, 128, 256]]           \n",
            "Model summary: 225 layers, 3012213 parameters, 3012197 gradients, 8.2 GFLOPs\n",
            "\n",
            "Transferred 319/355 items from pretrained weights\n",
            "\u001b[34m\u001b[1mTensorBoard: \u001b[0mStart with 'tensorboard --logdir runs/detect/train2', view at http://localhost:6006/\n",
            "Freezing layer 'model.22.dfl.conv.weight'\n",
            "\u001b[34m\u001b[1mAMP: \u001b[0mrunning Automatic Mixed Precision (AMP) checks with YOLOv8n...\n",
            "\u001b[34m\u001b[1mAMP: \u001b[0mchecks passed ✅\n",
            "\u001b[34m\u001b[1mtrain: \u001b[0mScanning /content/gdrive/MyDrive/YOLOv8/train/labels.cache... 447 images, 1 backgrounds, 0 corrupt: 100%|██████████| 447/447 [00:00<?, ?it/s]\n",
            "\u001b[34m\u001b[1malbumentations: \u001b[0mBlur(p=0.01, blur_limit=(3, 7)), MedianBlur(p=0.01, blur_limit=(3, 7)), ToGray(p=0.01), CLAHE(p=0.01, clip_limit=(1, 4.0), tile_grid_size=(8, 8))\n",
            "\u001b[34m\u001b[1mval: \u001b[0mScanning /content/gdrive/MyDrive/YOLOv8/valid/labels.cache... 127 images, 0 backgrounds, 0 corrupt: 100%|██████████| 127/127 [00:00<?, ?it/s]\n",
            "Plotting labels to runs/detect/train2/labels.jpg... \n",
            "\u001b[34m\u001b[1moptimizer:\u001b[0m 'optimizer=auto' found, ignoring 'lr0=0.01' and 'momentum=0.937' and determining best 'optimizer', 'lr0' and 'momentum' automatically... \n",
            "\u001b[34m\u001b[1moptimizer:\u001b[0m AdamW(lr=0.000909, momentum=0.9) with parameter groups 57 weight(decay=0.0), 64 weight(decay=0.0005), 63 bias(decay=0.0)\n",
            "Image sizes 640 train, 640 val\n",
            "Using 1 dataloader workers\n",
            "Logging results to \u001b[1mruns/detect/train2\u001b[0m\n",
            "Starting training for 50 epochs...\n",
            "\n",
            "      Epoch    GPU_mem   box_loss   cls_loss   dfl_loss  Instances       Size\n",
            "       1/50      1.43G      1.604      3.644      1.302         60        640: 100%|██████████| 56/56 [04:39<00:00,  4.98s/it]\n",
            "                 Class     Images  Instances      Box(P          R      mAP50  mAP50-95): 100%|██████████| 8/8 [00:03<00:00,  2.18it/s]\n",
            "                   all        127        909      0.628     0.0831      0.149     0.0747\n",
            "\n",
            "      Epoch    GPU_mem   box_loss   cls_loss   dfl_loss  Instances       Size\n",
            "       2/50      1.42G      1.639      2.545       1.29         92        640: 100%|██████████| 56/56 [00:16<00:00,  3.31it/s]\n",
            "                 Class     Images  Instances      Box(P          R      mAP50  mAP50-95): 100%|██████████| 8/8 [00:03<00:00,  2.27it/s]\n",
            "                   all        127        909      0.474      0.329      0.286      0.148\n",
            "\n",
            "      Epoch    GPU_mem   box_loss   cls_loss   dfl_loss  Instances       Size\n",
            "       3/50      1.34G      1.585       2.32      1.287        124        640: 100%|██████████| 56/56 [00:16<00:00,  3.42it/s]\n",
            "                 Class     Images  Instances      Box(P          R      mAP50  mAP50-95): 100%|██████████| 8/8 [00:02<00:00,  3.71it/s]\n",
            "                   all        127        909      0.391      0.292      0.323      0.165\n",
            "\n",
            "      Epoch    GPU_mem   box_loss   cls_loss   dfl_loss  Instances       Size\n",
            "       4/50      1.38G      1.614      2.234      1.314         80        640: 100%|██████████| 56/56 [00:16<00:00,  3.40it/s]\n",
            "                 Class     Images  Instances      Box(P          R      mAP50  mAP50-95): 100%|██████████| 8/8 [00:01<00:00,  4.14it/s]\n",
            "                   all        127        909      0.267      0.358      0.236      0.117\n",
            "\n",
            "      Epoch    GPU_mem   box_loss   cls_loss   dfl_loss  Instances       Size\n",
            "       5/50      1.34G      1.579      2.127      1.306         78        640: 100%|██████████| 56/56 [00:20<00:00,  2.79it/s]\n",
            "                 Class     Images  Instances      Box(P          R      mAP50  mAP50-95): 100%|██████████| 8/8 [00:02<00:00,  3.19it/s]\n",
            "                   all        127        909      0.405      0.435      0.371      0.207\n",
            "\n",
            "      Epoch    GPU_mem   box_loss   cls_loss   dfl_loss  Instances       Size\n",
            "       6/50       1.4G      1.542      2.049      1.263        104        640: 100%|██████████| 56/56 [00:16<00:00,  3.39it/s]\n",
            "                 Class     Images  Instances      Box(P          R      mAP50  mAP50-95): 100%|██████████| 8/8 [00:02<00:00,  3.89it/s]\n",
            "                   all        127        909      0.448       0.44      0.444      0.229\n",
            "\n",
            "      Epoch    GPU_mem   box_loss   cls_loss   dfl_loss  Instances       Size\n",
            "       7/50      1.45G      1.562      1.909      1.273         69        640: 100%|██████████| 56/56 [00:16<00:00,  3.42it/s]\n",
            "                 Class     Images  Instances      Box(P          R      mAP50  mAP50-95): 100%|██████████| 8/8 [00:03<00:00,  2.24it/s]\n",
            "                   all        127        909      0.485      0.494      0.499      0.267\n",
            "\n",
            "      Epoch    GPU_mem   box_loss   cls_loss   dfl_loss  Instances       Size\n",
            "       8/50      1.36G      1.499      1.842      1.248        107        640: 100%|██████████| 56/56 [00:16<00:00,  3.33it/s]\n",
            "                 Class     Images  Instances      Box(P          R      mAP50  mAP50-95): 100%|██████████| 8/8 [00:02<00:00,  3.95it/s]\n",
            "                   all        127        909      0.585      0.474       0.53      0.288\n",
            "\n",
            "      Epoch    GPU_mem   box_loss   cls_loss   dfl_loss  Instances       Size\n",
            "       9/50      1.45G      1.495      1.748      1.228         47        640: 100%|██████████| 56/56 [00:16<00:00,  3.42it/s]\n",
            "                 Class     Images  Instances      Box(P          R      mAP50  mAP50-95): 100%|██████████| 8/8 [00:02<00:00,  3.86it/s]\n",
            "                   all        127        909      0.575      0.549      0.544      0.299\n",
            "\n",
            "      Epoch    GPU_mem   box_loss   cls_loss   dfl_loss  Instances       Size\n",
            "      10/50      1.39G      1.502      1.684      1.232         24        640: 100%|██████████| 56/56 [00:17<00:00,  3.17it/s]\n",
            "                 Class     Images  Instances      Box(P          R      mAP50  mAP50-95): 100%|██████████| 8/8 [00:02<00:00,  2.84it/s]\n",
            "                   all        127        909       0.59      0.567       0.58      0.317\n",
            "\n",
            "      Epoch    GPU_mem   box_loss   cls_loss   dfl_loss  Instances       Size\n",
            "      11/50      1.53G      1.447      1.603      1.213        181        640: 100%|██████████| 56/56 [00:16<00:00,  3.33it/s]\n",
            "                 Class     Images  Instances      Box(P          R      mAP50  mAP50-95): 100%|██████████| 8/8 [00:02<00:00,  3.98it/s]\n",
            "                   all        127        909      0.671      0.547      0.597      0.321\n",
            "\n",
            "      Epoch    GPU_mem   box_loss   cls_loss   dfl_loss  Instances       Size\n",
            "      12/50      1.45G      1.479      1.651      1.225        106        640: 100%|██████████| 56/56 [00:16<00:00,  3.41it/s]\n",
            "                 Class     Images  Instances      Box(P          R      mAP50  mAP50-95): 100%|██████████| 8/8 [00:02<00:00,  3.34it/s]\n",
            "                   all        127        909      0.628      0.566      0.619      0.341\n",
            "\n",
            "      Epoch    GPU_mem   box_loss   cls_loss   dfl_loss  Instances       Size\n",
            "      13/50      1.46G       1.45      1.541      1.211        121        640: 100%|██████████| 56/56 [00:17<00:00,  3.21it/s]\n",
            "                 Class     Images  Instances      Box(P          R      mAP50  mAP50-95): 100%|██████████| 8/8 [00:01<00:00,  4.54it/s]\n",
            "                   all        127        909      0.648      0.594      0.634      0.341\n",
            "\n",
            "      Epoch    GPU_mem   box_loss   cls_loss   dfl_loss  Instances       Size\n",
            "      14/50      1.44G      1.454      1.532      1.211         42        640: 100%|██████████| 56/56 [00:17<00:00,  3.13it/s]\n",
            "                 Class     Images  Instances      Box(P          R      mAP50  mAP50-95): 100%|██████████| 8/8 [00:01<00:00,  4.46it/s]\n",
            "                   all        127        909      0.689      0.546      0.618      0.345\n",
            "\n",
            "      Epoch    GPU_mem   box_loss   cls_loss   dfl_loss  Instances       Size\n",
            "      15/50      1.41G      1.428      1.479      1.194         68        640: 100%|██████████| 56/56 [00:17<00:00,  3.16it/s]\n",
            "                 Class     Images  Instances      Box(P          R      mAP50  mAP50-95): 100%|██████████| 8/8 [00:01<00:00,  4.28it/s]\n",
            "                   all        127        909      0.688      0.592      0.646      0.347\n",
            "\n",
            "      Epoch    GPU_mem   box_loss   cls_loss   dfl_loss  Instances       Size\n",
            "      16/50      1.43G      1.451      1.522      1.214         78        640: 100%|██████████| 56/56 [00:16<00:00,  3.36it/s]\n",
            "                 Class     Images  Instances      Box(P          R      mAP50  mAP50-95): 100%|██████████| 8/8 [00:01<00:00,  4.37it/s]\n",
            "                   all        127        909      0.694      0.624      0.658      0.379\n",
            "\n",
            "      Epoch    GPU_mem   box_loss   cls_loss   dfl_loss  Instances       Size\n",
            "      17/50      1.37G        1.4      1.429      1.177         79        640: 100%|██████████| 56/56 [00:16<00:00,  3.38it/s]\n",
            "                 Class     Images  Instances      Box(P          R      mAP50  mAP50-95): 100%|██████████| 8/8 [00:03<00:00,  2.54it/s]\n",
            "                   all        127        909      0.661      0.633      0.664      0.374\n",
            "\n",
            "      Epoch    GPU_mem   box_loss   cls_loss   dfl_loss  Instances       Size\n",
            "      18/50      1.42G      1.405      1.414      1.178         77        640: 100%|██████████| 56/56 [00:16<00:00,  3.40it/s]\n",
            "                 Class     Images  Instances      Box(P          R      mAP50  mAP50-95): 100%|██████████| 8/8 [00:01<00:00,  4.54it/s]\n",
            "                   all        127        909       0.71      0.604      0.655       0.37\n",
            "\n",
            "      Epoch    GPU_mem   box_loss   cls_loss   dfl_loss  Instances       Size\n",
            "      19/50      1.33G      1.349      1.321      1.161        190        640: 100%|██████████| 56/56 [00:16<00:00,  3.40it/s]\n",
            "                 Class     Images  Instances      Box(P          R      mAP50  mAP50-95): 100%|██████████| 8/8 [00:01<00:00,  4.17it/s]\n",
            "                   all        127        909      0.734      0.612      0.694      0.394\n",
            "\n",
            "      Epoch    GPU_mem   box_loss   cls_loss   dfl_loss  Instances       Size\n",
            "      20/50      1.41G      1.373      1.346      1.169        147        640: 100%|██████████| 56/56 [00:17<00:00,  3.17it/s]\n",
            "                 Class     Images  Instances      Box(P          R      mAP50  mAP50-95): 100%|██████████| 8/8 [00:02<00:00,  2.73it/s]\n",
            "                   all        127        909      0.712      0.668      0.701      0.394\n",
            "\n",
            "      Epoch    GPU_mem   box_loss   cls_loss   dfl_loss  Instances       Size\n",
            "      21/50      1.43G      1.365      1.308      1.172         68        640: 100%|██████████| 56/56 [00:16<00:00,  3.34it/s]\n",
            "                 Class     Images  Instances      Box(P          R      mAP50  mAP50-95): 100%|██████████| 8/8 [00:01<00:00,  4.74it/s]\n",
            "                   all        127        909      0.718       0.67       0.71      0.392\n",
            "\n",
            "      Epoch    GPU_mem   box_loss   cls_loss   dfl_loss  Instances       Size\n",
            "      22/50      1.33G      1.329      1.322      1.156         56        640: 100%|██████████| 56/56 [00:18<00:00,  3.03it/s]\n",
            "                 Class     Images  Instances      Box(P          R      mAP50  mAP50-95): 100%|██████████| 8/8 [00:03<00:00,  2.45it/s]\n",
            "                   all        127        909      0.774      0.644      0.716       0.41\n",
            "\n",
            "      Epoch    GPU_mem   box_loss   cls_loss   dfl_loss  Instances       Size\n",
            "      23/50      1.48G      1.359      1.276      1.156         45        640: 100%|██████████| 56/56 [00:16<00:00,  3.38it/s]\n",
            "                 Class     Images  Instances      Box(P          R      mAP50  mAP50-95): 100%|██████████| 8/8 [00:01<00:00,  4.36it/s]\n",
            "                   all        127        909      0.739      0.636      0.719      0.413\n",
            "\n",
            "      Epoch    GPU_mem   box_loss   cls_loss   dfl_loss  Instances       Size\n",
            "      24/50      1.38G       1.35      1.227      1.151        160        640: 100%|██████████| 56/56 [00:16<00:00,  3.39it/s]\n",
            "                 Class     Images  Instances      Box(P          R      mAP50  mAP50-95): 100%|██████████| 8/8 [00:01<00:00,  4.26it/s]\n",
            "                   all        127        909      0.739       0.66      0.718      0.405\n",
            "\n",
            "      Epoch    GPU_mem   box_loss   cls_loss   dfl_loss  Instances       Size\n",
            "      25/50      1.41G      1.319       1.18      1.132        124        640: 100%|██████████| 56/56 [00:17<00:00,  3.13it/s]\n",
            "                 Class     Images  Instances      Box(P          R      mAP50  mAP50-95): 100%|██████████| 8/8 [00:02<00:00,  3.38it/s]\n",
            "                   all        127        909      0.724      0.702      0.729       0.42\n",
            "\n",
            "      Epoch    GPU_mem   box_loss   cls_loss   dfl_loss  Instances       Size\n",
            "      26/50      1.45G       1.32      1.209      1.157         81        640: 100%|██████████| 56/56 [00:16<00:00,  3.39it/s]\n",
            "                 Class     Images  Instances      Box(P          R      mAP50  mAP50-95): 100%|██████████| 8/8 [00:01<00:00,  4.61it/s]\n",
            "                   all        127        909      0.771      0.688      0.734      0.424\n",
            "\n",
            "      Epoch    GPU_mem   box_loss   cls_loss   dfl_loss  Instances       Size\n",
            "      27/50      1.38G        1.3      1.164      1.131         82        640: 100%|██████████| 56/56 [00:16<00:00,  3.35it/s]\n",
            "                 Class     Images  Instances      Box(P          R      mAP50  mAP50-95): 100%|██████████| 8/8 [00:02<00:00,  2.87it/s]\n",
            "                   all        127        909      0.819      0.622      0.722      0.423\n",
            "\n",
            "      Epoch    GPU_mem   box_loss   cls_loss   dfl_loss  Instances       Size\n",
            "      28/50      1.43G      1.287      1.165       1.13         73        640: 100%|██████████| 56/56 [00:17<00:00,  3.27it/s]\n",
            "                 Class     Images  Instances      Box(P          R      mAP50  mAP50-95): 100%|██████████| 8/8 [00:02<00:00,  3.99it/s]\n",
            "                   all        127        909      0.739       0.72      0.749      0.441\n",
            "\n",
            "      Epoch    GPU_mem   box_loss   cls_loss   dfl_loss  Instances       Size\n",
            "      29/50      1.33G      1.298      1.181      1.134         81        640: 100%|██████████| 56/56 [00:16<00:00,  3.43it/s]\n",
            "                 Class     Images  Instances      Box(P          R      mAP50  mAP50-95): 100%|██████████| 8/8 [00:01<00:00,  4.45it/s]\n",
            "                   all        127        909      0.784      0.687      0.743       0.43\n",
            "\n",
            "      Epoch    GPU_mem   box_loss   cls_loss   dfl_loss  Instances       Size\n",
            "      30/50      1.53G      1.267      1.156      1.117        115        640: 100%|██████████| 56/56 [00:16<00:00,  3.34it/s]\n",
            "                 Class     Images  Instances      Box(P          R      mAP50  mAP50-95): 100%|██████████| 8/8 [00:03<00:00,  2.49it/s]\n",
            "                   all        127        909      0.734      0.689      0.744      0.418\n",
            "\n",
            "      Epoch    GPU_mem   box_loss   cls_loss   dfl_loss  Instances       Size\n",
            "      31/50      1.42G      1.261      1.131      1.113        112        640: 100%|██████████| 56/56 [00:18<00:00,  3.10it/s]\n",
            "                 Class     Images  Instances      Box(P          R      mAP50  mAP50-95): 100%|██████████| 8/8 [00:01<00:00,  4.52it/s]\n",
            "                   all        127        909      0.689      0.699      0.735      0.436\n",
            "\n",
            "      Epoch    GPU_mem   box_loss   cls_loss   dfl_loss  Instances       Size\n",
            "      32/50      1.41G      1.293      1.093      1.121        112        640: 100%|██████████| 56/56 [00:16<00:00,  3.43it/s]\n",
            "                 Class     Images  Instances      Box(P          R      mAP50  mAP50-95): 100%|██████████| 8/8 [00:01<00:00,  4.75it/s]\n",
            "                   all        127        909       0.78      0.689      0.742      0.425\n",
            "\n",
            "      Epoch    GPU_mem   box_loss   cls_loss   dfl_loss  Instances       Size\n",
            "      33/50      1.43G      1.246      1.099      1.111         72        640: 100%|██████████| 56/56 [00:17<00:00,  3.12it/s]\n",
            "                 Class     Images  Instances      Box(P          R      mAP50  mAP50-95): 100%|██████████| 8/8 [00:02<00:00,  3.79it/s]\n",
            "                   all        127        909       0.77       0.66      0.732      0.421\n",
            "\n",
            "      Epoch    GPU_mem   box_loss   cls_loss   dfl_loss  Instances       Size\n",
            "      34/50      1.33G      1.258      1.062      1.101         71        640: 100%|██████████| 56/56 [00:16<00:00,  3.39it/s]\n",
            "                 Class     Images  Instances      Box(P          R      mAP50  mAP50-95): 100%|██████████| 8/8 [00:01<00:00,  4.50it/s]\n",
            "                   all        127        909      0.799      0.694      0.752      0.448\n",
            "\n",
            "      Epoch    GPU_mem   box_loss   cls_loss   dfl_loss  Instances       Size\n",
            "      35/50      1.37G      1.246      1.057      1.105        127        640: 100%|██████████| 56/56 [00:16<00:00,  3.42it/s]\n",
            "                 Class     Images  Instances      Box(P          R      mAP50  mAP50-95): 100%|██████████| 8/8 [00:02<00:00,  3.70it/s]\n",
            "                   all        127        909      0.776       0.67      0.747      0.444\n",
            "\n",
            "      Epoch    GPU_mem   box_loss   cls_loss   dfl_loss  Instances       Size\n",
            "      36/50      1.52G      1.224      1.032      1.097         78        640: 100%|██████████| 56/56 [00:17<00:00,  3.24it/s]\n",
            "                 Class     Images  Instances      Box(P          R      mAP50  mAP50-95): 100%|██████████| 8/8 [00:01<00:00,  4.92it/s]\n",
            "                   all        127        909      0.826      0.681      0.758      0.458\n",
            "\n",
            "      Epoch    GPU_mem   box_loss   cls_loss   dfl_loss  Instances       Size\n",
            "      37/50      1.39G      1.227      1.016      1.093        114        640: 100%|██████████| 56/56 [00:16<00:00,  3.43it/s]\n",
            "                 Class     Images  Instances      Box(P          R      mAP50  mAP50-95): 100%|██████████| 8/8 [00:01<00:00,  4.34it/s]\n",
            "                   all        127        909      0.831      0.687      0.763      0.452\n",
            "\n",
            "      Epoch    GPU_mem   box_loss   cls_loss   dfl_loss  Instances       Size\n",
            "      38/50      1.46G      1.216      0.997      1.094         75        640: 100%|██████████| 56/56 [00:16<00:00,  3.45it/s]\n",
            "                 Class     Images  Instances      Box(P          R      mAP50  mAP50-95): 100%|██████████| 8/8 [00:03<00:00,  2.62it/s]\n",
            "                   all        127        909       0.76      0.717      0.765       0.45\n",
            "\n",
            "      Epoch    GPU_mem   box_loss   cls_loss   dfl_loss  Instances       Size\n",
            "      39/50      1.35G      1.203      1.001        1.1         57        640: 100%|██████████| 56/56 [00:16<00:00,  3.48it/s]\n",
            "                 Class     Images  Instances      Box(P          R      mAP50  mAP50-95): 100%|██████████| 8/8 [00:01<00:00,  4.60it/s]\n",
            "                   all        127        909       0.81      0.712      0.775      0.458\n",
            "\n",
            "      Epoch    GPU_mem   box_loss   cls_loss   dfl_loss  Instances       Size\n",
            "      40/50      1.48G      1.207     0.9659      1.074        162        640: 100%|██████████| 56/56 [00:18<00:00,  2.99it/s]\n",
            "                 Class     Images  Instances      Box(P          R      mAP50  mAP50-95): 100%|██████████| 8/8 [00:01<00:00,  4.26it/s]\n",
            "                   all        127        909      0.771      0.708      0.767      0.448\n",
            "Closing dataloader mosaic\n",
            "\u001b[34m\u001b[1malbumentations: \u001b[0mBlur(p=0.01, blur_limit=(3, 7)), MedianBlur(p=0.01, blur_limit=(3, 7)), ToGray(p=0.01), CLAHE(p=0.01, clip_limit=(1, 4.0), tile_grid_size=(8, 8))\n",
            "\n",
            "      Epoch    GPU_mem   box_loss   cls_loss   dfl_loss  Instances       Size\n",
            "      41/50      1.33G      1.189      1.013      1.083         45        640: 100%|██████████| 56/56 [00:18<00:00,  3.03it/s]\n",
            "                 Class     Images  Instances      Box(P          R      mAP50  mAP50-95): 100%|██████████| 8/8 [00:02<00:00,  3.08it/s]\n",
            "                   all        127        909      0.783      0.697       0.76      0.453\n",
            "\n",
            "      Epoch    GPU_mem   box_loss   cls_loss   dfl_loss  Instances       Size\n",
            "      42/50      1.33G      1.148     0.9734      1.057         38        640: 100%|██████████| 56/56 [00:15<00:00,  3.66it/s]\n",
            "                 Class     Images  Instances      Box(P          R      mAP50  mAP50-95): 100%|██████████| 8/8 [00:01<00:00,  4.25it/s]\n",
            "                   all        127        909      0.759      0.712      0.759       0.45\n",
            "\n",
            "      Epoch    GPU_mem   box_loss   cls_loss   dfl_loss  Instances       Size\n",
            "      43/50      1.34G      1.155     0.9187      1.045         62        640: 100%|██████████| 56/56 [00:15<00:00,  3.54it/s]\n",
            "                 Class     Images  Instances      Box(P          R      mAP50  mAP50-95): 100%|██████████| 8/8 [00:01<00:00,  4.27it/s]\n",
            "                   all        127        909      0.768      0.724      0.752       0.44\n",
            "\n",
            "      Epoch    GPU_mem   box_loss   cls_loss   dfl_loss  Instances       Size\n",
            "      44/50      1.36G      1.166     0.9369       1.05         66        640: 100%|██████████| 56/56 [00:15<00:00,  3.61it/s]\n",
            "                 Class     Images  Instances      Box(P          R      mAP50  mAP50-95): 100%|██████████| 8/8 [00:02<00:00,  2.97it/s]\n",
            "                   all        127        909      0.768      0.715      0.757      0.444\n",
            "\n",
            "      Epoch    GPU_mem   box_loss   cls_loss   dfl_loss  Instances       Size\n",
            "      45/50      1.33G      1.131     0.9038      1.055         17        640: 100%|██████████| 56/56 [00:15<00:00,  3.52it/s]\n",
            "                 Class     Images  Instances      Box(P          R      mAP50  mAP50-95): 100%|██████████| 8/8 [00:01<00:00,  4.69it/s]\n",
            "                   all        127        909      0.786      0.693      0.758      0.448\n",
            "\n",
            "      Epoch    GPU_mem   box_loss   cls_loss   dfl_loss  Instances       Size\n",
            "      46/50      1.33G      1.126     0.8789      1.041        105        640: 100%|██████████| 56/56 [00:15<00:00,  3.63it/s]\n",
            "                 Class     Images  Instances      Box(P          R      mAP50  mAP50-95): 100%|██████████| 8/8 [00:01<00:00,  4.57it/s]\n",
            "                   all        127        909      0.817       0.67      0.759      0.449\n",
            "\n",
            "      Epoch    GPU_mem   box_loss   cls_loss   dfl_loss  Instances       Size\n",
            "      47/50      1.33G      1.117     0.8757       1.04         54        640: 100%|██████████| 56/56 [00:15<00:00,  3.64it/s]\n",
            "                 Class     Images  Instances      Box(P          R      mAP50  mAP50-95): 100%|██████████| 8/8 [00:01<00:00,  4.01it/s]\n",
            "                   all        127        909      0.838      0.677      0.765      0.453\n",
            "\n",
            "      Epoch    GPU_mem   box_loss   cls_loss   dfl_loss  Instances       Size\n",
            "      48/50      1.33G      1.098     0.8555      1.035         54        640: 100%|██████████| 56/56 [00:16<00:00,  3.50it/s]\n",
            "                 Class     Images  Instances      Box(P          R      mAP50  mAP50-95): 100%|██████████| 8/8 [00:03<00:00,  2.60it/s]\n",
            "                   all        127        909      0.754      0.726      0.763      0.453\n",
            "\n",
            "      Epoch    GPU_mem   box_loss   cls_loss   dfl_loss  Instances       Size\n",
            "      49/50      1.33G      1.119     0.8716      1.044         61        640: 100%|██████████| 56/56 [00:17<00:00,  3.18it/s]\n",
            "                 Class     Images  Instances      Box(P          R      mAP50  mAP50-95): 100%|██████████| 8/8 [00:01<00:00,  4.04it/s]\n",
            "                   all        127        909      0.743      0.729      0.757      0.449\n",
            "\n",
            "      Epoch    GPU_mem   box_loss   cls_loss   dfl_loss  Instances       Size\n",
            "      50/50      1.34G      1.092     0.8476      1.029         74        640: 100%|██████████| 56/56 [00:15<00:00,  3.56it/s]\n",
            "                 Class     Images  Instances      Box(P          R      mAP50  mAP50-95): 100%|██████████| 8/8 [00:01<00:00,  4.33it/s]\n",
            "                   all        127        909      0.763      0.727      0.761      0.449\n",
            "\n",
            "50 epochs completed in 0.354 hours.\n",
            "Optimizer stripped from runs/detect/train2/weights/last.pt, 6.2MB\n",
            "Optimizer stripped from runs/detect/train2/weights/best.pt, 6.2MB\n",
            "\n",
            "Validating runs/detect/train2/weights/best.pt...\n",
            "Ultralytics YOLOv8.0.190 🚀 Python-3.10.12 torch-2.0.1+cu118 CUDA:0 (Tesla T4, 15102MiB)\n",
            "Model summary (fused): 168 layers, 3007013 parameters, 0 gradients, 8.1 GFLOPs\n",
            "                 Class     Images  Instances      Box(P          R      mAP50  mAP50-95): 100%|██████████| 8/8 [00:08<00:00,  1.12s/it]\n",
            "                   all        127        909       0.81      0.712      0.775      0.457\n",
            "                  fish        127        459      0.776      0.756      0.802      0.454\n",
            "             jellyfish        127        155      0.861      0.826      0.911      0.511\n",
            "               penguin        127        104      0.695      0.702      0.699      0.328\n",
            "                puffin        127         74      0.749      0.568      0.639      0.291\n",
            "                 shark        127         57      0.897      0.612      0.744      0.472\n",
            "              starfish        127         27      0.887      0.778      0.805      0.569\n",
            "              stingray        127         33      0.803      0.742      0.828      0.573\n",
            "Speed: 2.7ms preprocess, 5.8ms inference, 0.0ms loss, 8.4ms postprocess per image\n",
            "Results saved to \u001b[1mruns/detect/train2\u001b[0m\n"
          ]
        }
      ]
    },
    {
      "cell_type": "code",
      "source": [
        "!yolo task=segment mode=predict model=/content/runs/detect/train2/weights/best.pt source=\"/content/gdrive/MyDrive/YOLOv8/test/images\""
      ],
      "metadata": {
        "id": "1WdCc6W_WLL_",
        "colab": {
          "base_uri": "https://localhost:8080/"
        },
        "outputId": "5223486f-44e1-40da-f6e8-a5a44f801054"
      },
      "execution_count": 5,
      "outputs": [
        {
          "output_type": "stream",
          "name": "stdout",
          "text": [
            "WARNING ⚠️ conflicting 'task=segment' passed with 'task=detect' model. Ignoring 'task=segment' and updating to 'task=detect' to match model.\n",
            "Ultralytics YOLOv8.0.190 🚀 Python-3.10.12 torch-2.0.1+cu118 CUDA:0 (Tesla T4, 15102MiB)\n",
            "Model summary (fused): 168 layers, 3007013 parameters, 0 gradients, 8.1 GFLOPs\n",
            "\n",
            "image 1/63 /content/gdrive/MyDrive/YOLOv8/test/images/IMG_2289_jpeg_jpg.rf.fe2a7a149e7b11f2313f5a7b30386e85.jpg: 640x480 1 penguin, 52.9ms\n",
            "image 2/63 /content/gdrive/MyDrive/YOLOv8/test/images/IMG_2301_jpeg_jpg.rf.2c19ae5efbd1f8611b5578125f001695.jpg: 640x480 1 jellyfish, 24 penguins, 6.0ms\n",
            "image 3/63 /content/gdrive/MyDrive/YOLOv8/test/images/IMG_2319_jpeg_jpg.rf.6e20bf97d17b74a8948aa48776c40454.jpg: 640x480 11 penguins, 6.2ms\n",
            "image 4/63 /content/gdrive/MyDrive/YOLOv8/test/images/IMG_2347_jpeg_jpg.rf.7c71ac4b9301eb358cd4a832844dedcb.jpg: 640x480 2 penguins, 6.5ms\n",
            "image 5/63 /content/gdrive/MyDrive/YOLOv8/test/images/IMG_2354_jpeg_jpg.rf.396e872c7fb0a95e911806986995ee7a.jpg: 640x480 6 penguins, 6.0ms\n",
            "image 6/63 /content/gdrive/MyDrive/YOLOv8/test/images/IMG_2371_jpeg_jpg.rf.54505f60b6706da151c164188c305849.jpg: 640x480 5 fishs, 6.1ms\n",
            "image 7/63 /content/gdrive/MyDrive/YOLOv8/test/images/IMG_2379_jpeg_jpg.rf.7dc3160c937072d26d4624c6c48e904d.jpg: 640x480 1 fish, 6.2ms\n",
            "image 8/63 /content/gdrive/MyDrive/YOLOv8/test/images/IMG_2380_jpeg_jpg.rf.a23809682eb1466c1136ca0f55de8fb5.jpg: 640x480 2 fishs, 6.3ms\n",
            "image 9/63 /content/gdrive/MyDrive/YOLOv8/test/images/IMG_2387_jpeg_jpg.rf.09b38bacfab0922a3a6b66480f01b719.jpg: 640x480 1 starfish, 6.5ms\n",
            "image 10/63 /content/gdrive/MyDrive/YOLOv8/test/images/IMG_2395_jpeg_jpg.rf.9f1503ad3b7a7c7938daed057cc4e9bc.jpg: 640x480 10 fishs, 1 stingray, 6.1ms\n",
            "image 11/63 /content/gdrive/MyDrive/YOLOv8/test/images/IMG_2423_jpeg_jpg.rf.1c0901882e71d5ebd26f036f4e22da65.jpg: 640x480 17 fishs, 3 sharks, 6.5ms\n",
            "image 12/63 /content/gdrive/MyDrive/YOLOv8/test/images/IMG_2434_jpeg_jpg.rf.8b20d3270d4fbc497c64125273f46ecb.jpg: 640x480 3 fishs, 7.2ms\n",
            "image 13/63 /content/gdrive/MyDrive/YOLOv8/test/images/IMG_2446_jpeg_jpg.rf.06ee05e92df8e3c33073147d8f595211.jpg: 640x480 9 fishs, 3 sharks, 6.7ms\n",
            "image 14/63 /content/gdrive/MyDrive/YOLOv8/test/images/IMG_2448_jpeg_jpg.rf.28ce79dab47ad525751d5407be09bc3d.jpg: 640x480 14 fishs, 5 sharks, 6.1ms\n",
            "image 15/63 /content/gdrive/MyDrive/YOLOv8/test/images/IMG_2450_jpeg_jpg.rf.ff673921373de3bfc275863e3befeefe.jpg: 640x480 21 fishs, 1 shark, 7.0ms\n",
            "image 16/63 /content/gdrive/MyDrive/YOLOv8/test/images/IMG_2465_jpeg_jpg.rf.7e699ec1d2e373d93dac32cd02db9438.jpg: 640x480 19 jellyfishs, 7.8ms\n",
            "image 17/63 /content/gdrive/MyDrive/YOLOv8/test/images/IMG_2466_jpeg_jpg.rf.53886abb9947ec4e47405957b30fe314.jpg: 640x480 4 jellyfishs, 9.0ms\n",
            "image 18/63 /content/gdrive/MyDrive/YOLOv8/test/images/IMG_2468_jpeg_jpg.rf.c933cc14c99b11a90413a1490d4556db.jpg: 640x480 10 jellyfishs, 7.8ms\n",
            "image 19/63 /content/gdrive/MyDrive/YOLOv8/test/images/IMG_2470_jpeg_jpg.rf.75b359c8baa6866bfecf07a0e4e8c33d.jpg: 640x480 19 jellyfishs, 8.9ms\n",
            "image 20/63 /content/gdrive/MyDrive/YOLOv8/test/images/IMG_2473_jpeg_jpg.rf.6284677f9c781b0cfeec54981a17d573.jpg: 640x480 4 jellyfishs, 9.4ms\n",
            "image 21/63 /content/gdrive/MyDrive/YOLOv8/test/images/IMG_2477_jpeg_jpg.rf.7b2692f142d53c16ad477065f1f8ae6d.jpg: 640x480 8 jellyfishs, 6.3ms\n",
            "image 22/63 /content/gdrive/MyDrive/YOLOv8/test/images/IMG_2496_jpeg_jpg.rf.3f91e7f18502074c89fa720a11926fab.jpg: 640x480 10 fishs, 3 sharks, 1 stingray, 6.2ms\n",
            "image 23/63 /content/gdrive/MyDrive/YOLOv8/test/images/IMG_2499_jpeg_jpg.rf.6cbab3719b9063388b5ab3ab826d7bd3.jpg: 640x480 16 fishs, 3 sharks, 6.3ms\n",
            "image 24/63 /content/gdrive/MyDrive/YOLOv8/test/images/IMG_2514_jpeg_jpg.rf.6ccb3859d75fc5cfe053b1c1474254b2.jpg: 640x480 2 sharks, 6.4ms\n",
            "image 25/63 /content/gdrive/MyDrive/YOLOv8/test/images/IMG_2526_jpeg_jpg.rf.003e1d1d41bcd204df731b85cea68781.jpg: 640x480 2 fishs, 14 puffins, 6.3ms\n",
            "image 26/63 /content/gdrive/MyDrive/YOLOv8/test/images/IMG_2532_jpeg_jpg.rf.2afeb76e5d9372dbbd6fbc53d5b75675.jpg: 640x480 2 starfishs, 6.4ms\n",
            "image 27/63 /content/gdrive/MyDrive/YOLOv8/test/images/IMG_2544_jpeg_jpg.rf.03f51bb9e1c57fb9cd62f8cbdca14e90.jpg: 640x480 1 fish, 2 jellyfishs, 3 starfishs, 6.1ms\n",
            "image 28/63 /content/gdrive/MyDrive/YOLOv8/test/images/IMG_2547_jpeg_jpg.rf.9406b6f1a9fad2292c4abd28f712baaf.jpg: 640x480 4 starfishs, 6.0ms\n",
            "image 29/63 /content/gdrive/MyDrive/YOLOv8/test/images/IMG_2570_jpeg_jpg.rf.ed40900b657a5b23d92cb2d296ad2dbc.jpg: 640x480 11 fishs, 4 sharks, 6.1ms\n",
            "image 30/63 /content/gdrive/MyDrive/YOLOv8/test/images/IMG_2574_jpeg_jpg.rf.ca0c3ad32384309a61e92d9a8bef87b9.jpg: 640x480 14 jellyfishs, 9.9ms\n",
            "image 31/63 /content/gdrive/MyDrive/YOLOv8/test/images/IMG_2582_jpeg_jpg.rf.14f175066ce74b470bf31fa0c7a096cd.jpg: 640x480 7 fishs, 2 sharks, 2 stingrays, 6.2ms\n",
            "image 32/63 /content/gdrive/MyDrive/YOLOv8/test/images/IMG_2588_jpeg_jpg.rf.cb9cea8f05891cfd55a3e93f2908201f.jpg: 640x480 3 stingrays, 6.1ms\n",
            "image 33/63 /content/gdrive/MyDrive/YOLOv8/test/images/IMG_2630_jpeg_jpg.rf.310f0c986a72be46b80ce31c2d00e46d.jpg: 640x480 4 fishs, 5 stingrays, 6.2ms\n",
            "image 34/63 /content/gdrive/MyDrive/YOLOv8/test/images/IMG_2632_jpeg_jpg.rf.f44037edca490b16cbf06427e28ea946.jpg: 640x480 6 fishs, 2 stingrays, 6.1ms\n",
            "image 35/63 /content/gdrive/MyDrive/YOLOv8/test/images/IMG_2651_jpeg_jpg.rf.84b3930aa80b610cc97bf1c176763940.jpg: 640x480 1 stingray, 6.2ms\n",
            "image 36/63 /content/gdrive/MyDrive/YOLOv8/test/images/IMG_3129_jpeg_jpg.rf.90c472dcdf9b6713ec767cc97560ceca.jpg: 640x480 1 puffin, 1 starfish, 6.5ms\n",
            "image 37/63 /content/gdrive/MyDrive/YOLOv8/test/images/IMG_3134_jpeg_jpg.rf.50750ca778773042a3c46a1d3e480132.jpg: 640x480 1 penguin, 2 puffins, 8.5ms\n",
            "image 38/63 /content/gdrive/MyDrive/YOLOv8/test/images/IMG_3136_jpeg_jpg.rf.0d8fef73d4cc5e1c35ce424444d9e44b.jpg: 640x480 13 puffins, 7.7ms\n",
            "image 39/63 /content/gdrive/MyDrive/YOLOv8/test/images/IMG_3144_jpeg_jpg.rf.f29a36360174dc83ecef93275ed8f02e.jpg: 640x480 5 puffins, 6.2ms\n",
            "image 40/63 /content/gdrive/MyDrive/YOLOv8/test/images/IMG_3154_jpeg_jpg.rf.5f429a366c02d38bc9e2217f4508c3e0.jpg: 640x480 1 puffin, 6.5ms\n",
            "image 41/63 /content/gdrive/MyDrive/YOLOv8/test/images/IMG_3164_jpeg_jpg.rf.06637eee0b72df791aa729807ca45c4d.jpg: 640x480 1 fish, 21 penguins, 6.2ms\n",
            "image 42/63 /content/gdrive/MyDrive/YOLOv8/test/images/IMG_3173_jpeg_jpg.rf.6f05acaa0b22d410a5df3ea3286e227d.jpg: 480x640 16 penguins, 51.2ms\n",
            "image 43/63 /content/gdrive/MyDrive/YOLOv8/test/images/IMG_3175_jpeg_jpg.rf.686c7d36e049eea974a363e99bf0bee0.jpg: 480x640 15 penguins, 6.4ms\n",
            "image 44/63 /content/gdrive/MyDrive/YOLOv8/test/images/IMG_8331_jpg.rf.ec024bdf1e9de02b020b5e6505c1c58b.jpg: 480x640 4 fishs, 6.8ms\n",
            "image 45/63 /content/gdrive/MyDrive/YOLOv8/test/images/IMG_8343_jpg.rf.2d88000497d74d72aedc118b125a0c07.jpg: 480x640 7 fishs, 6.8ms\n",
            "image 46/63 /content/gdrive/MyDrive/YOLOv8/test/images/IMG_8395_jpg.rf.3bebece033961c9f665571644a14261f.jpg: 480x640 7 fishs, 6 sharks, 6.1ms\n",
            "image 47/63 /content/gdrive/MyDrive/YOLOv8/test/images/IMG_8396_jpg.rf.106a6ced5c649ea81f0de8ecaa4ff3b8.jpg: 480x640 9 fishs, 5 sharks, 7.2ms\n",
            "image 48/63 /content/gdrive/MyDrive/YOLOv8/test/images/IMG_8404_jpg.rf.265b89e862a375f6b89f781ea60ed480.jpg: 480x640 14 fishs, 1 shark, 1 stingray, 6.8ms\n",
            "image 49/63 /content/gdrive/MyDrive/YOLOv8/test/images/IMG_8420_jpg.rf.31f1d5f1440e48ccf1dee988b565911b.jpg: 480x640 35 fishs, 6.1ms\n",
            "image 50/63 /content/gdrive/MyDrive/YOLOv8/test/images/IMG_8452_jpg.rf.6bbff701ab93e29553b3a70137fd4e66.jpg: 480x640 48 fishs, 6.9ms\n",
            "image 51/63 /content/gdrive/MyDrive/YOLOv8/test/images/IMG_8490_jpg.rf.1836542cf054c6d303a2dd05d4194d7f.jpg: 480x640 48 jellyfishs, 6.3ms\n",
            "image 52/63 /content/gdrive/MyDrive/YOLOv8/test/images/IMG_8497_MOV-0_jpg.rf.5c59bd1bf7d8fd7a20999d51a79a12c0.jpg: 640x384 13 fishs, 54.4ms\n",
            "image 53/63 /content/gdrive/MyDrive/YOLOv8/test/images/IMG_8497_MOV-3_jpg.rf.fd813e14681c8b41e709a500748ce46a.jpg: 640x384 15 fishs, 6.2ms\n",
            "image 54/63 /content/gdrive/MyDrive/YOLOv8/test/images/IMG_8497_MOV-5_jpg.rf.3deffb208d656b7845661c5e33dd1afb.jpg: 640x384 17 fishs, 7.9ms\n",
            "image 55/63 /content/gdrive/MyDrive/YOLOv8/test/images/IMG_8513_MOV-0_jpg.rf.2a2f77e3f73630b60aaf6ad3ca4ed130.jpg: 640x384 11 fishs, 1 shark, 8.2ms\n",
            "image 56/63 /content/gdrive/MyDrive/YOLOv8/test/images/IMG_8515_jpg.rf.98a9daca7c5a5bad9872bd7fb2d4f198.jpg: 480x640 6 fishs, 1 shark, 11.6ms\n",
            "image 57/63 /content/gdrive/MyDrive/YOLOv8/test/images/IMG_8582_MOV-0_jpg.rf.aa8304d7a5112d63c8841d96160d42cd.jpg: 640x384 10 fishs, 6.9ms\n",
            "image 58/63 /content/gdrive/MyDrive/YOLOv8/test/images/IMG_8582_MOV-3_jpg.rf.c7dde0639837077f76428d70223368a4.jpg: 640x384 2 fishs, 6.1ms\n",
            "image 59/63 /content/gdrive/MyDrive/YOLOv8/test/images/IMG_8582_MOV-5_jpg.rf.9d7a26fbf145ce39ab0831b4e6bc1f1e.jpg: 640x384 6 fishs, 1 stingray, 6.0ms\n",
            "image 60/63 /content/gdrive/MyDrive/YOLOv8/test/images/IMG_8590_MOV-2_jpg.rf.2136fdb5dcbcd58a1dc456bb3e5bf476.jpg: 640x384 2 jellyfishs, 6.1ms\n",
            "image 61/63 /content/gdrive/MyDrive/YOLOv8/test/images/IMG_8590_MOV-5_jpg.rf.074e6d8acdd3fcad16d866c341b43769.jpg: 640x384 1 stingray, 6.7ms\n",
            "image 62/63 /content/gdrive/MyDrive/YOLOv8/test/images/IMG_8595_MOV-0_jpg.rf.312ab0b8b9fca18134aee88044f45a06.jpg: 640x384 47 jellyfishs, 6.2ms\n",
            "image 63/63 /content/gdrive/MyDrive/YOLOv8/test/images/IMG_8599_MOV-3_jpg.rf.412ebb16ea80e964b4464c50e757df0e.jpg: 640x384 4 jellyfishs, 6.2ms\n",
            "Speed: 2.6ms preprocess, 9.0ms inference, 1.4ms postprocess per image at shape (1, 3, 640, 384)\n",
            "Results saved to \u001b[1mruns/detect/predict\u001b[0m\n",
            "💡 Learn more at https://docs.ultralytics.com/modes/predict\n"
          ]
        }
      ]
    },
    {
      "cell_type": "code",
      "source": [
        "!zip -r /content/predict.zip /content/runs/detect/predict\n"
      ],
      "metadata": {
        "id": "dWLJFoX2_rmR"
      },
      "execution_count": null,
      "outputs": []
    },
    {
      "cell_type": "code",
      "source": [
        "from google.colab import files\n",
        "\n",
        "files.download(\"/content/predict.zip\")"
      ],
      "metadata": {
        "colab": {
          "base_uri": "https://localhost:8080/",
          "height": 17
        },
        "id": "wVV6L58FBPIS",
        "outputId": "83f21b1e-017a-4aec-f1e8-89d171e81200"
      },
      "execution_count": 12,
      "outputs": [
        {
          "output_type": "display_data",
          "data": {
            "text/plain": [
              "<IPython.core.display.Javascript object>"
            ],
            "application/javascript": [
              "\n",
              "    async function download(id, filename, size) {\n",
              "      if (!google.colab.kernel.accessAllowed) {\n",
              "        return;\n",
              "      }\n",
              "      const div = document.createElement('div');\n",
              "      const label = document.createElement('label');\n",
              "      label.textContent = `Downloading \"${filename}\": `;\n",
              "      div.appendChild(label);\n",
              "      const progress = document.createElement('progress');\n",
              "      progress.max = size;\n",
              "      div.appendChild(progress);\n",
              "      document.body.appendChild(div);\n",
              "\n",
              "      const buffers = [];\n",
              "      let downloaded = 0;\n",
              "\n",
              "      const channel = await google.colab.kernel.comms.open(id);\n",
              "      // Send a message to notify the kernel that we're ready.\n",
              "      channel.send({})\n",
              "\n",
              "      for await (const message of channel.messages) {\n",
              "        // Send a message to notify the kernel that we're ready.\n",
              "        channel.send({})\n",
              "        if (message.buffers) {\n",
              "          for (const buffer of message.buffers) {\n",
              "            buffers.push(buffer);\n",
              "            downloaded += buffer.byteLength;\n",
              "            progress.value = downloaded;\n",
              "          }\n",
              "        }\n",
              "      }\n",
              "      const blob = new Blob(buffers, {type: 'application/binary'});\n",
              "      const a = document.createElement('a');\n",
              "      a.href = window.URL.createObjectURL(blob);\n",
              "      a.download = filename;\n",
              "      div.appendChild(a);\n",
              "      a.click();\n",
              "      div.remove();\n",
              "    }\n",
              "  "
            ]
          },
          "metadata": {}
        },
        {
          "output_type": "display_data",
          "data": {
            "text/plain": [
              "<IPython.core.display.Javascript object>"
            ],
            "application/javascript": [
              "download(\"download_1515bd7b-2aa7-4035-9675-44bf3746cfb3\", \"predict.zip\", 13413150)"
            ]
          },
          "metadata": {}
        }
      ]
    },
    {
      "cell_type": "code",
      "source": [
        "!zip -r /content/YOLO_details.zip /content/runs/detect/train2"
      ],
      "metadata": {
        "colab": {
          "base_uri": "https://localhost:8080/"
        },
        "id": "5RT8t6cuBem4",
        "outputId": "3b10b641-5fc9-4881-a94f-5d5db4b7ec85"
      },
      "execution_count": 13,
      "outputs": [
        {
          "output_type": "stream",
          "name": "stdout",
          "text": [
            "  adding: content/runs/detect/train2/ (stored 0%)\n",
            "  adding: content/runs/detect/train2/train_batch2240.jpg (deflated 8%)\n",
            "  adding: content/runs/detect/train2/val_batch0_labels.jpg (deflated 6%)\n",
            "  adding: content/runs/detect/train2/R_curve.png (deflated 7%)\n",
            "  adding: content/runs/detect/train2/val_batch1_pred.jpg (deflated 8%)\n",
            "  adding: content/runs/detect/train2/results.png (deflated 7%)\n",
            "  adding: content/runs/detect/train2/val_batch1_labels.jpg (deflated 9%)\n",
            "  adding: content/runs/detect/train2/train_batch2.jpg (deflated 3%)\n",
            "  adding: content/runs/detect/train2/val_batch2_pred.jpg (deflated 4%)\n",
            "  adding: content/runs/detect/train2/labels_correlogram.jpg (deflated 36%)\n",
            "  adding: content/runs/detect/train2/train_batch2242.jpg (deflated 7%)\n",
            "  adding: content/runs/detect/train2/events.out.tfevents.1696222684.54de1d3c47db.2277.0 (deflated 81%)\n",
            "  adding: content/runs/detect/train2/train_batch1.jpg (deflated 4%)\n",
            "  adding: content/runs/detect/train2/confusion_matrix.png (deflated 23%)\n",
            "  adding: content/runs/detect/train2/P_curve.png (deflated 7%)\n",
            "  adding: content/runs/detect/train2/args.yaml (deflated 52%)\n",
            "  adding: content/runs/detect/train2/train_batch0.jpg (deflated 5%)\n",
            "  adding: content/runs/detect/train2/val_batch0_pred.jpg (deflated 5%)\n",
            "  adding: content/runs/detect/train2/val_batch2_labels.jpg (deflated 4%)\n",
            "  adding: content/runs/detect/train2/weights/ (stored 0%)\n",
            "  adding: content/runs/detect/train2/weights/best.pt (deflated 9%)\n",
            "  adding: content/runs/detect/train2/weights/last.pt (deflated 9%)\n",
            "  adding: content/runs/detect/train2/labels.jpg (deflated 22%)\n",
            "  adding: content/runs/detect/train2/results.csv (deflated 85%)\n",
            "  adding: content/runs/detect/train2/F1_curve.png (deflated 6%)\n",
            "  adding: content/runs/detect/train2/train_batch2241.jpg (deflated 10%)\n",
            "  adding: content/runs/detect/train2/PR_curve.png (deflated 10%)\n",
            "  adding: content/runs/detect/train2/confusion_matrix_normalized.png (deflated 20%)\n"
          ]
        }
      ]
    },
    {
      "cell_type": "code",
      "source": [
        "from google.colab import files\n",
        "\n",
        "files.download(\"/content/YOLO_details.zip\")"
      ],
      "metadata": {
        "colab": {
          "base_uri": "https://localhost:8080/",
          "height": 17
        },
        "id": "713O5QEfBw9n",
        "outputId": "5cf23da6-872e-4076-cccd-fadbf069d794"
      },
      "execution_count": 14,
      "outputs": [
        {
          "output_type": "display_data",
          "data": {
            "text/plain": [
              "<IPython.core.display.Javascript object>"
            ],
            "application/javascript": [
              "\n",
              "    async function download(id, filename, size) {\n",
              "      if (!google.colab.kernel.accessAllowed) {\n",
              "        return;\n",
              "      }\n",
              "      const div = document.createElement('div');\n",
              "      const label = document.createElement('label');\n",
              "      label.textContent = `Downloading \"${filename}\": `;\n",
              "      div.appendChild(label);\n",
              "      const progress = document.createElement('progress');\n",
              "      progress.max = size;\n",
              "      div.appendChild(progress);\n",
              "      document.body.appendChild(div);\n",
              "\n",
              "      const buffers = [];\n",
              "      let downloaded = 0;\n",
              "\n",
              "      const channel = await google.colab.kernel.comms.open(id);\n",
              "      // Send a message to notify the kernel that we're ready.\n",
              "      channel.send({})\n",
              "\n",
              "      for await (const message of channel.messages) {\n",
              "        // Send a message to notify the kernel that we're ready.\n",
              "        channel.send({})\n",
              "        if (message.buffers) {\n",
              "          for (const buffer of message.buffers) {\n",
              "            buffers.push(buffer);\n",
              "            downloaded += buffer.byteLength;\n",
              "            progress.value = downloaded;\n",
              "          }\n",
              "        }\n",
              "      }\n",
              "      const blob = new Blob(buffers, {type: 'application/binary'});\n",
              "      const a = document.createElement('a');\n",
              "      a.href = window.URL.createObjectURL(blob);\n",
              "      a.download = filename;\n",
              "      div.appendChild(a);\n",
              "      a.click();\n",
              "      div.remove();\n",
              "    }\n",
              "  "
            ]
          },
          "metadata": {}
        },
        {
          "output_type": "display_data",
          "data": {
            "text/plain": [
              "<IPython.core.display.Javascript object>"
            ],
            "application/javascript": [
              "download(\"download_d013cc06-2915-4521-ab36-2f6fd70b5fe6\", \"YOLO_details.zip\", 19419563)"
            ]
          },
          "metadata": {}
        }
      ]
    }
  ]
}